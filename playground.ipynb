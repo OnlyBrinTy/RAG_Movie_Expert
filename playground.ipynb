{
 "cells": [
  {
   "metadata": {
    "ExecuteTime": {
     "end_time": "2024-12-22T12:10:05.835302Z",
     "start_time": "2024-12-22T12:10:00.887354Z"
    }
   },
   "cell_type": "code",
   "source": [
    "from sentence_transformers import SentenceTransformer\n",
    "import faiss\n",
    "import pandas as pd\n",
    "import numpy as np\n",
    "\n",
    "model = SentenceTransformer('sentence-transformers/all-mpnet-base-v2')  # embedding model for Q&A datasets\n",
    "df = pd.read_csv('files/imdb_top_1000.csv')  # movie database"
   ],
   "id": "9871bf7635eeda8e",
   "outputs": [],
   "execution_count": 1
  },
  {
   "metadata": {
    "ExecuteTime": {
     "end_time": "2024-12-22T15:17:07.985622Z",
     "start_time": "2024-12-22T15:17:07.981162Z"
    }
   },
   "cell_type": "code",
   "source": "df['Overview']",
   "id": "b2e617d6ce9370b6",
   "outputs": [
    {
     "data": {
      "text/plain": [
       "0                                                                                                             Two imprisoned men bond over a number of years, finding solace and eventual redemption through acts of common decency.\n",
       "1                                                                                                                     An organized crime dynasty's aging patriarch transfers control of his clandestine empire to his reluctant son.\n",
       "2                                      When the menace known as the Joker wreaks havoc and chaos on the people of Gotham, Batman must accept one of the greatest psychological and physical tests of his ability to fight injustice.\n",
       "3                                                               The early life and career of Vito Corleone in 1920s New York City is portrayed, while his son, Michael, expands and tightens his grip on the family crime syndicate.\n",
       "4                                                                                                                  A jury holdout attempts to prevent a miscarriage of justice by forcing his colleagues to reconsider the evidence.\n",
       "                                                                                                                   ...                                                                                                              \n",
       "995                                                                                A young New York socialite becomes interested in a young man who has moved into her apartment building, but her past threatens to get in the way.\n",
       "996                                                                                                                                        Sprawling epic covering the life of a Texas cattle rancher and his family and associates.\n",
       "997                                                                          In Hawaii in 1941, a private is cruelly punished for not boxing on his unit's team, while his captain's wife and second-in-command are falling in love.\n",
       "998                                                             Several survivors of a torpedoed merchant ship in World War II find themselves in the same lifeboat with one of the crew members of the U-boat that sank their ship.\n",
       "999    A man in London tries to help a counter-espionage Agent. But when the Agent is killed, and the man stands accused, he must go on the run to save himself and stop a spy ring which is trying to steal top secret information.\n",
       "Name: Overview, Length: 1000, dtype: object"
      ]
     },
     "execution_count": 80,
     "metadata": {},
     "output_type": "execute_result"
    }
   ],
   "execution_count": 80
  },
  {
   "metadata": {
    "ExecuteTime": {
     "end_time": "2024-12-22T12:15:18.856657Z",
     "start_time": "2024-12-22T12:15:18.846377Z"
    }
   },
   "cell_type": "code",
   "source": "index = faiss.read_index('files/db.index')",
   "id": "8c5a6cad32272112",
   "outputs": [],
   "execution_count": 3
  },
  {
   "metadata": {
    "ExecuteTime": {
     "end_time": "2024-12-22T12:59:14.702676Z",
     "start_time": "2024-12-22T12:59:14.647304Z"
    }
   },
   "cell_type": "code",
   "source": [
    "user_query = 'Action', ''\n",
    "genre_embs = model.encode(user_query[0])\n",
    "description_embs = model.encode(user_query[1])\n",
    "embedding = np.array([np.hstack((genre_embs, description_embs))])"
   ],
   "id": "initial_id",
   "outputs": [],
   "execution_count": 76
  },
  {
   "metadata": {
    "ExecuteTime": {
     "end_time": "2024-12-22T12:59:14.780914Z",
     "start_time": "2024-12-22T12:59:14.777615Z"
    }
   },
   "cell_type": "code",
   "source": "embedding.shape",
   "id": "7333424387c6763f",
   "outputs": [
    {
     "data": {
      "text/plain": [
       "(1536,)"
      ]
     },
     "execution_count": 77,
     "metadata": {},
     "output_type": "execute_result"
    }
   ],
   "execution_count": 77
  },
  {
   "metadata": {
    "ExecuteTime": {
     "end_time": "2024-12-22T12:59:15.659706Z",
     "start_time": "2024-12-22T12:59:15.641947Z"
    }
   },
   "cell_type": "code",
   "source": [
    "k = 7  # number of top results\n",
    "distances, indices = index.search(embedding, k)\n",
    "similar_movies = df.loc[*indices]\n",
    "print(similar_movies['Series_Title'])\n"
   ],
   "id": "7bad861b637be5b5",
   "outputs": [
    {
     "ename": "ValueError",
     "evalue": "not enough values to unpack (expected 2, got 1)",
     "output_type": "error",
     "traceback": [
      "\u001B[1;31m---------------------------------------------------------------------------\u001B[0m",
      "\u001B[1;31mValueError\u001B[0m                                Traceback (most recent call last)",
      "Cell \u001B[1;32mIn[78], line 2\u001B[0m\n\u001B[0;32m      1\u001B[0m k \u001B[38;5;241m=\u001B[39m \u001B[38;5;241m7\u001B[39m  \u001B[38;5;66;03m# number of top results\u001B[39;00m\n\u001B[1;32m----> 2\u001B[0m distances, indices \u001B[38;5;241m=\u001B[39m \u001B[43mindex\u001B[49m\u001B[38;5;241;43m.\u001B[39;49m\u001B[43msearch\u001B[49m\u001B[43m(\u001B[49m\u001B[43membedding\u001B[49m\u001B[43m,\u001B[49m\u001B[43m \u001B[49m\u001B[43mk\u001B[49m\u001B[43m)\u001B[49m\n\u001B[0;32m      3\u001B[0m similar_movies \u001B[38;5;241m=\u001B[39m df\u001B[38;5;241m.\u001B[39mloc[\u001B[38;5;241m*\u001B[39mindices]\n\u001B[0;32m      4\u001B[0m \u001B[38;5;28mprint\u001B[39m(similar_movies[\u001B[38;5;124m'\u001B[39m\u001B[38;5;124mSeries_Title\u001B[39m\u001B[38;5;124m'\u001B[39m])\n",
      "File \u001B[1;32mC:\\Web\\RAG_Movie\\RAG_Movie\\.venv\\Lib\\site-packages\\faiss\\class_wrappers.py:327\u001B[0m, in \u001B[0;36mhandle_Index.<locals>.replacement_search\u001B[1;34m(self, x, k, params, D, I)\u001B[0m\n\u001B[0;32m    300\u001B[0m \u001B[38;5;28;01mdef\u001B[39;00m \u001B[38;5;21mreplacement_search\u001B[39m(\u001B[38;5;28mself\u001B[39m, x, k, \u001B[38;5;241m*\u001B[39m, params\u001B[38;5;241m=\u001B[39m\u001B[38;5;28;01mNone\u001B[39;00m, D\u001B[38;5;241m=\u001B[39m\u001B[38;5;28;01mNone\u001B[39;00m, I\u001B[38;5;241m=\u001B[39m\u001B[38;5;28;01mNone\u001B[39;00m):\n\u001B[0;32m    301\u001B[0m \u001B[38;5;250m    \u001B[39m\u001B[38;5;124;03m\"\"\"Find the k nearest neighbors of the set of vectors x in the index.\u001B[39;00m\n\u001B[0;32m    302\u001B[0m \n\u001B[0;32m    303\u001B[0m \u001B[38;5;124;03m    Parameters\u001B[39;00m\n\u001B[1;32m   (...)\u001B[0m\n\u001B[0;32m    324\u001B[0m \u001B[38;5;124;03m        When not enough results are found, the label is set to -1\u001B[39;00m\n\u001B[0;32m    325\u001B[0m \u001B[38;5;124;03m    \"\"\"\u001B[39;00m\n\u001B[1;32m--> 327\u001B[0m     n, d \u001B[38;5;241m=\u001B[39m x\u001B[38;5;241m.\u001B[39mshape\n\u001B[0;32m    328\u001B[0m     x \u001B[38;5;241m=\u001B[39m np\u001B[38;5;241m.\u001B[39mascontiguousarray(x, dtype\u001B[38;5;241m=\u001B[39m\u001B[38;5;124m'\u001B[39m\u001B[38;5;124mfloat32\u001B[39m\u001B[38;5;124m'\u001B[39m)\n\u001B[0;32m    329\u001B[0m     \u001B[38;5;28;01massert\u001B[39;00m d \u001B[38;5;241m==\u001B[39m \u001B[38;5;28mself\u001B[39m\u001B[38;5;241m.\u001B[39md\n",
      "\u001B[1;31mValueError\u001B[0m: not enough values to unpack (expected 2, got 1)"
     ]
    }
   ],
   "execution_count": 78
  },
  {
   "metadata": {
    "ExecuteTime": {
     "end_time": "2024-12-22T12:29:19.322126Z",
     "start_time": "2024-12-22T12:29:19.318346Z"
    }
   },
   "cell_type": "code",
   "source": "distances",
   "id": "6658dfb1820c132e",
   "outputs": [
    {
     "data": {
      "text/plain": [
       "array([[1.5598973, 1.5843741, 1.6586983, 1.6627123, 1.6852028, 1.6978148,\n",
       "        1.7054106]], dtype=float32)"
      ]
     },
     "execution_count": 23,
     "metadata": {},
     "output_type": "execute_result"
    }
   ],
   "execution_count": 23
  },
  {
   "metadata": {},
   "cell_type": "code",
   "outputs": [],
   "execution_count": null,
   "source": "",
   "id": "93213da57a39a69d"
  }
 ],
 "metadata": {
  "kernelspec": {
   "display_name": "Python 3",
   "language": "python",
   "name": "python3"
  },
  "language_info": {
   "codemirror_mode": {
    "name": "ipython",
    "version": 2
   },
   "file_extension": ".py",
   "mimetype": "text/x-python",
   "name": "python",
   "nbconvert_exporter": "python",
   "pygments_lexer": "ipython2",
   "version": "2.7.6"
  }
 },
 "nbformat": 4,
 "nbformat_minor": 5
}
